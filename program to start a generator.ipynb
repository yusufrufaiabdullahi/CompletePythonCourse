{
 "cells": [
  {
   "cell_type": "code",
   "execution_count": 6,
   "metadata": {},
   "outputs": [
    {
     "name": "stdout",
     "output_type": "stream",
     "text": [
      "> press_off\n",
      "> press_off\n",
      "generator is not on\n",
      "> on\n",
      "> pull_rope\n",
      "generator has started\n",
      "> press_off\n",
      "> press_off\n",
      "generator turned off\n"
     ]
    }
   ],
   "source": [
    "command = ''\n",
    "fuel_tank = ''\n",
    "started = False\n",
    "while True:\n",
    "    fuel_tank = input('> ')\n",
    "    command = input('> ')\n",
    "    \n",
    "    if fuel_tank == \"on\" and command == 'pull_rope':\n",
    "        if started:\n",
    "            print('generator is already started')\n",
    "        else:\n",
    "            started = True\n",
    "            print(\"generator has started\")\n",
    "    elif fuel_tank != \"on\" and command == 'pull_rope':\n",
    "        print(\"generator won't start\") \n",
    "    \n",
    "    \n",
    "    # for turning off the generator \n",
    "    elif command == \"press_off\":\n",
    "        if not started:\n",
    "            print('generator is not on')\n",
    "        else:\n",
    "            started = False\n",
    "            print('generator turned off')\n",
    "            break\n",
    "    # this is the help menu\n",
    "    elif command == 'help':\n",
    "        print(\"\"\"\n",
    "        pull_rope -> string to on the generator\n",
    "        press_off_button -> to turn of the genarator\n",
    "        \"\"\")\n",
    "    else:\n",
    "        print('i do not understand')"
   ]
  },
  {
   "cell_type": "code",
   "execution_count": null,
   "metadata": {},
   "outputs": [],
   "source": []
  }
 ],
 "metadata": {
  "kernelspec": {
   "display_name": "Python 3",
   "language": "python",
   "name": "python3"
  },
  "language_info": {
   "codemirror_mode": {
    "name": "ipython",
    "version": 3
   },
   "file_extension": ".py",
   "mimetype": "text/x-python",
   "name": "python",
   "nbconvert_exporter": "python",
   "pygments_lexer": "ipython3",
   "version": "3.7.6"
  }
 },
 "nbformat": 4,
 "nbformat_minor": 4
}

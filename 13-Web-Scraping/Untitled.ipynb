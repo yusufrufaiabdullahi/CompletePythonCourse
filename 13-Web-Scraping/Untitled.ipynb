{
 "cells": [
  {
   "cell_type": "code",
   "execution_count": 5,
   "id": "6de45ec2",
   "metadata": {},
   "outputs": [],
   "source": [
    "def something(a,b,c=''):\n",
    "    if c:\n",
    "        first = f'a b c'\n",
    "    else:\n",
    "        first = f'{a} {b}'\n",
    "        \n",
    "    return first"
   ]
  },
  {
   "cell_type": "code",
   "execution_count": 7,
   "id": "7b899aac",
   "metadata": {},
   "outputs": [
    {
     "data": {
      "text/plain": [
       "'a b c'"
      ]
     },
     "execution_count": 7,
     "metadata": {},
     "output_type": "execute_result"
    }
   ],
   "source": [
    "something('sd','db','df')"
   ]
  },
  {
   "cell_type": "code",
   "execution_count": null,
   "id": "32ef78bd",
   "metadata": {},
   "outputs": [],
   "source": []
  }
 ],
 "metadata": {
  "kernelspec": {
   "display_name": "Python 3 (ipykernel)",
   "language": "python",
   "name": "python3"
  },
  "language_info": {
   "codemirror_mode": {
    "name": "ipython",
    "version": 3
   },
   "file_extension": ".py",
   "mimetype": "text/x-python",
   "name": "python",
   "nbconvert_exporter": "python",
   "pygments_lexer": "ipython3",
   "version": "3.9.12"
  }
 },
 "nbformat": 4,
 "nbformat_minor": 5
}

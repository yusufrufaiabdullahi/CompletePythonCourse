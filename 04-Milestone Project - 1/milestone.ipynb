{
 "cells": [
  {
   "cell_type": "code",
   "execution_count": 27,
   "id": "1de47708",
   "metadata": {},
   "outputs": [],
   "source": [
    "from IPython.display import clear_output\n",
    "\n",
    "\n",
    "def display_board(board):\n",
    "    print(board[7]+'|'+board[8]+'|'+board[9])\n",
    "    print('-|-|-')\n",
    "    print(board[4]+'|'+board[5]+'|'+board[6])\n",
    "    print(board[1]+'|'+board[2]+'|'+board[3])"
   ]
  },
  {
   "cell_type": "code",
   "execution_count": 28,
   "id": "157b3ed0",
   "metadata": {},
   "outputs": [
    {
     "name": "stdout",
     "output_type": "stream",
     "text": [
      "7|8|9\n",
      "-|-|-\n",
      "4|5|6\n",
      "1|2|3\n"
     ]
    }
   ],
   "source": [
    "display_board(['#','1','2','3','4','5','6','7','8','9'])"
   ]
  },
  {
   "cell_type": "code",
   "execution_count": 31,
   "id": "429225d5",
   "metadata": {},
   "outputs": [],
   "source": [
    "def display_board1(board):\n",
    "    print(board[1]+'|'+board[2]+'|'+board[3])"
   ]
  },
  {
   "cell_type": "code",
   "execution_count": 35,
   "id": "0eff2aaf",
   "metadata": {},
   "outputs": [
    {
     "name": "stdout",
     "output_type": "stream",
     "text": [
      "O|O|X\n"
     ]
    }
   ],
   "source": [
    "display_board1(['#','O','O','X'])"
   ]
  },
  {
   "cell_type": "code",
   "execution_count": 63,
   "id": "8ced9da4",
   "metadata": {},
   "outputs": [],
   "source": [
    "def display_board1(board):\n",
    "    print(board[1] +board[2])"
   ]
  },
  {
   "cell_type": "code",
   "execution_count": 64,
   "id": "c610a8f2",
   "metadata": {},
   "outputs": [
    {
     "name": "stdout",
     "output_type": "stream",
     "text": [
      "100200\n"
     ]
    }
   ],
   "source": [
    "display_board1(['#','100','200'])"
   ]
  },
  {
   "cell_type": "code",
   "execution_count": 69,
   "id": "cf6e789f",
   "metadata": {},
   "outputs": [],
   "source": [
    "a= 'b'"
   ]
  },
  {
   "cell_type": "code",
   "execution_count": 66,
   "id": "ffe3b9e2",
   "metadata": {},
   "outputs": [
    {
     "data": {
      "text/plain": [
       "'b'"
      ]
     },
     "execution_count": 66,
     "metadata": {},
     "output_type": "execute_result"
    }
   ],
   "source": [
    "a"
   ]
  },
  {
   "cell_type": "code",
   "execution_count": 68,
   "id": "ffface13",
   "metadata": {},
   "outputs": [
    {
     "data": {
      "text/plain": [
       "False"
      ]
     },
     "execution_count": 68,
     "metadata": {},
     "output_type": "execute_result"
    }
   ],
   "source": [
    "a =='B'"
   ]
  },
  {
   "cell_type": "code",
   "execution_count": 70,
   "id": "6f9b807a",
   "metadata": {},
   "outputs": [],
   "source": [
    "a = [\n",
    "  [ 0, 1, 0, 0 ],\n",
    "  [ 1, 0, 1, 1 ],\n",
    "  [ 0, 1, 0, 1 ],\n",
    "  [ 0, 1, 1, 0 ]\n",
    "]"
   ]
  },
  {
   "cell_type": "code",
   "execution_count": 73,
   "id": "13db1e89",
   "metadata": {},
   "outputs": [
    {
     "name": "stdout",
     "output_type": "stream",
     "text": [
      "fiss\n",
      "1\n",
      "fiss\n",
      "fiss\n",
      "1\n",
      "fiss\n",
      "1\n",
      "1\n",
      "fiss\n",
      "1\n",
      "fiss\n",
      "1\n",
      "fiss\n",
      "1\n",
      "1\n",
      "fiss\n"
     ]
    }
   ],
   "source": [
    "for item in a:\n",
    "    for item1 in item:\n",
    "        if item1 == 0:\n",
    "            print('fiss')\n",
    "        else:\n",
    "            print(item1)"
   ]
  },
  {
   "cell_type": "code",
   "execution_count": null,
   "id": "3c32484e",
   "metadata": {},
   "outputs": [],
   "source": []
  }
 ],
 "metadata": {
  "kernelspec": {
   "display_name": "Python 3 (ipykernel)",
   "language": "python",
   "name": "python3"
  },
  "language_info": {
   "codemirror_mode": {
    "name": "ipython",
    "version": 3
   },
   "file_extension": ".py",
   "mimetype": "text/x-python",
   "name": "python",
   "nbconvert_exporter": "python",
   "pygments_lexer": "ipython3",
   "version": "3.9.12"
  }
 },
 "nbformat": 4,
 "nbformat_minor": 5
}

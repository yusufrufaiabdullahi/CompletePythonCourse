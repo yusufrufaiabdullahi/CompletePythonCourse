{
 "cells": [
  {
   "cell_type": "code",
   "execution_count": null,
   "metadata": {},
   "outputs": [],
   "source": [
    "if 3<2:\n",
    "    print(\"i'm going home\")\n",
    "elif 20 > w:\n",
    "    print('false')\n",
    "else:\n",
    "    print(\"hello world\")"
   ]
  },
  {
   "cell_type": "code",
   "execution_count": null,
   "metadata": {},
   "outputs": [],
   "source": [
    "w = 20000000"
   ]
  },
  {
   "cell_type": "code",
   "execution_count": null,
   "metadata": {},
   "outputs": [],
   "source": [
    "list1 = [1,2,3,4,5,6,7,8,9,10]"
   ]
  },
  {
   "cell_type": "code",
   "execution_count": null,
   "metadata": {},
   "outputs": [],
   "source": [
    "for napp in list1:\n",
    "    print('femi')"
   ]
  },
  {
   "cell_type": "code",
   "execution_count": null,
   "metadata": {},
   "outputs": [],
   "source": [
    "mylist = [1,2,3,4,5,6,7,8,9,10]"
   ]
  },
  {
   "cell_type": "code",
   "execution_count": null,
   "metadata": {},
   "outputs": [],
   "source": [
    "for num in mylist:\n",
    "    print('corn')"
   ]
  },
  {
   "cell_type": "code",
   "execution_count": null,
   "metadata": {},
   "outputs": [],
   "source": [
    "for num in mylist:\n",
    "    if num % 2 ==0:\n",
    "        print(num)\n",
    "    else:\n",
    "        print(f'odd number:{num}')"
   ]
  },
  {
   "cell_type": "code",
   "execution_count": null,
   "metadata": {
    "scrolled": true
   },
   "outputs": [],
   "source": [
    "list_sum = 0\n",
    "\n",
    "for num in mylist:\n",
    "    list_sum = list_sum + num\n",
    "print(list_sum)"
   ]
  },
  {
   "cell_type": "code",
   "execution_count": null,
   "metadata": {},
   "outputs": [],
   "source": [
    "mylist = [1,2,3,4,5,6,7,8,9,10]"
   ]
  },
  {
   "cell_type": "code",
   "execution_count": null,
   "metadata": {},
   "outputs": [],
   "source": [
    "my_num = 0"
   ]
  },
  {
   "cell_type": "code",
   "execution_count": null,
   "metadata": {},
   "outputs": [],
   "source": [
    "for num in mylist:\n",
    "    my_num += num\n",
    "    print(my_num)"
   ]
  },
  {
   "cell_type": "code",
   "execution_count": null,
   "metadata": {},
   "outputs": [],
   "source": [
    "mylist = [(1,2),(3,4),(5,6),(7,8)]"
   ]
  },
  {
   "cell_type": "code",
   "execution_count": null,
   "metadata": {},
   "outputs": [],
   "source": [
    "for (a,b) in mylist:\n",
    "    print(a)"
   ]
  },
  {
   "cell_type": "code",
   "execution_count": null,
   "metadata": {},
   "outputs": [],
   "source": [
    "ball = {'b1':1, 'b2':2, 'b3':3, 'b4':4}"
   ]
  },
  {
   "cell_type": "code",
   "execution_count": null,
   "metadata": {},
   "outputs": [],
   "source": [
    "for key,value in ball.items():\n",
    "    print(key)"
   ]
  },
  {
   "cell_type": "code",
   "execution_count": null,
   "metadata": {},
   "outputs": [],
   "source": [
    "bal = ['this is going to be fun']"
   ]
  },
  {
   "cell_type": "code",
   "execution_count": null,
   "metadata": {},
   "outputs": [],
   "source": [
    "for item in bal:\n",
    "    print(item)"
   ]
  },
  {
   "cell_type": "code",
   "execution_count": 2,
   "metadata": {},
   "outputs": [
    {
     "name": "stdout",
     "output_type": "stream",
     "text": [
      "the current value of x is: 0\n",
      "the current value of x is: 1\n",
      "the current value of x is: 2\n",
      "the current value of x is: 3\n",
      "the current value of x is: 4\n",
      "the current value of x is: 5\n",
      "the current value of x is: 6\n",
      "the current value of x is: 7\n",
      "the current value of x is: 8\n",
      "the current value of x is: 9\n",
      "the current value of x is: 10\n",
      "the current value of x is: 11\n",
      "the current value of x is: 12\n",
      "the current value of x is: 13\n",
      "the current value of x is: 14\n",
      "the current value of x is: 15\n",
      "the current value of x is: 16\n",
      "the current value of x is: 17\n",
      "the current value of x is: 18\n",
      "the current value of x is: 19\n",
      "the current value of x is: 20\n",
      "the current value of x is: 21\n",
      "the current value of x is: 22\n",
      "the current value of x is: 23\n",
      "the current value of x is: 24\n",
      "the current value of x is: 25\n",
      "the current value of x is: 26\n",
      "the current value of x is: 27\n",
      "the current value of x is: 28\n",
      "the current value of x is: 29\n",
      "the current value of x is: 30\n",
      "the current value of x is: 31\n",
      "the current value of x is: 32\n",
      "the current value of x is: 33\n",
      "the current value of x is: 34\n",
      "the current value of x is: 35\n",
      "the current value of x is: 36\n",
      "the current value of x is: 37\n",
      "the current value of x is: 38\n",
      "the current value of x is: 39\n",
      "the current value of x is: 40\n",
      "the current value of x is: 41\n",
      "the current value of x is: 42\n",
      "the current value of x is: 43\n",
      "the current value of x is: 44\n",
      "the current value of x is: 45\n",
      "the current value of x is: 46\n",
      "the current value of x is: 47\n",
      "the current value of x is: 48\n",
      "the current value of x is: 49\n",
      "the current value of x is: 50\n",
      "the current value of x is: 51\n",
      "the current value of x is: 52\n",
      "the current value of x is: 53\n",
      "the current value of x is: 54\n",
      "the current value of x is: 55\n",
      "the current value of x is: 56\n",
      "the current value of x is: 57\n",
      "the current value of x is: 58\n",
      "the current value of x is: 59\n",
      "the current value of x is: 60\n",
      "the current value of x is: 61\n",
      "the current value of x is: 62\n",
      "the current value of x is: 63\n",
      "the current value of x is: 64\n",
      "the current value of x is: 65\n",
      "the current value of x is: 66\n",
      "the current value of x is: 67\n",
      "the current value of x is: 68\n",
      "the current value of x is: 69\n",
      "the current value of x is: 70\n",
      "the current value of x is: 71\n",
      "the current value of x is: 72\n",
      "the current value of x is: 73\n",
      "the current value of x is: 74\n",
      "the current value of x is: 75\n",
      "the current value of x is: 76\n",
      "the current value of x is: 77\n",
      "the current value of x is: 78\n",
      "the current value of x is: 79\n",
      "the current value of x is: 80\n",
      "the current value of x is: 81\n",
      "the current value of x is: 82\n",
      "the current value of x is: 83\n",
      "the current value of x is: 84\n",
      "the current value of x is: 85\n",
      "the current value of x is: 86\n",
      "the current value of x is: 87\n",
      "the current value of x is: 88\n",
      "the current value of x is: 89\n",
      "the current value of x is: 90\n",
      "the current value of x is: 91\n",
      "the current value of x is: 92\n",
      "the current value of x is: 93\n",
      "the current value of x is: 94\n",
      "the current value of x is: 95\n",
      "the current value of x is: 96\n",
      "the current value of x is: 97\n",
      "the current value of x is: 98\n",
      "the current value of x is: 99\n"
     ]
    }
   ],
   "source": [
    "b = 0\n",
    "while b < 100:\n",
    "    print(f'the current value of x is: {b}')\n",
    "    b = b + 1"
   ]
  },
  {
   "cell_type": "code",
   "execution_count": 9,
   "metadata": {},
   "outputs": [
    {
     "name": "stdout",
     "output_type": "stream",
     "text": [
      "the current value of x is: 1\n",
      "the current value of x is: 2\n",
      "the current value of x is: 3\n",
      "the current value of x is: 4\n",
      "the current value of x is: 5\n",
      "the current value of x is: 6\n",
      "the current value of x is: 7\n",
      "the current value of x is: 8\n",
      "the current value of x is: 9\n",
      "hello\n"
     ]
    }
   ],
   "source": [
    "c = 1\n",
    "while c < 10:\n",
    "    print(f'the current value of x is: {c}')\n",
    "    c = c + 1\n",
    "else:\n",
    "    print('hello')"
   ]
  },
  {
   "cell_type": "code",
   "execution_count": null,
   "metadata": {},
   "outputs": [],
   "source": []
  }
 ],
 "metadata": {
  "kernelspec": {
   "display_name": "Python 3",
   "language": "python",
   "name": "python3"
  },
  "language_info": {
   "codemirror_mode": {
    "name": "ipython",
    "version": 3
   },
   "file_extension": ".py",
   "mimetype": "text/x-python",
   "name": "python",
   "nbconvert_exporter": "python",
   "pygments_lexer": "ipython3",
   "version": "3.7.6"
  }
 },
 "nbformat": 4,
 "nbformat_minor": 4
}

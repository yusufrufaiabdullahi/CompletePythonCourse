{
 "cells": [
  {
   "cell_type": "code",
   "execution_count": 8,
   "id": "0fadb614",
   "metadata": {},
   "outputs": [],
   "source": [
    "lst = [1,2,3 ,2]\n",
    "lst2 = [4, 5, 6]"
   ]
  },
  {
   "cell_type": "code",
   "execution_count": 9,
   "id": "006de8d0",
   "metadata": {},
   "outputs": [
    {
     "name": "stdout",
     "output_type": "stream",
     "text": [
      "<class 'list'>\n",
      "<class 'list'>\n"
     ]
    }
   ],
   "source": [
    "print(type(lst))\n",
    "print(type(lst2))"
   ]
  },
  {
   "cell_type": "code",
   "execution_count": 10,
   "id": "22ff6f70",
   "metadata": {},
   "outputs": [
    {
     "data": {
      "text/plain": [
       "2"
      ]
     },
     "execution_count": 10,
     "metadata": {},
     "output_type": "execute_result"
    }
   ],
   "source": [
    "lst.count(2)"
   ]
  },
  {
   "cell_type": "code",
   "execution_count": 14,
   "id": "2930d3e2",
   "metadata": {},
   "outputs": [
    {
     "name": "stdout",
     "output_type": "stream",
     "text": [
      "<class 'int'>\n",
      "<class 'list'>\n",
      "<class 'dict'>\n",
      "<class 'tuple'>\n"
     ]
    }
   ],
   "source": [
    "print(type(1))\n",
    "print(type([]))\n",
    "print(type({}))\n",
    "print(type(()))"
   ]
  },
  {
   "cell_type": "markdown",
   "id": "6830a13e",
   "metadata": {},
   "source": [
    "# class ClassName():\n",
    "    block of code"
   ]
  },
  {
   "cell_type": "code",
   "execution_count": 1,
   "id": "3eb212bc",
   "metadata": {},
   "outputs": [],
   "source": [
    "class Sample():  ## creating a simple class\n",
    "    pass\n",
    "\n",
    "xx = Sample() ## creating the object or instance of our class"
   ]
  },
  {
   "cell_type": "code",
   "execution_count": 2,
   "id": "502b4c23",
   "metadata": {},
   "outputs": [
    {
     "name": "stdout",
     "output_type": "stream",
     "text": [
      "<class '__main__.Sample'>\n"
     ]
    }
   ],
   "source": [
    "print(type(xx))"
   ]
  },
  {
   "cell_type": "code",
   "execution_count": 4,
   "id": "0f1dad5e",
   "metadata": {},
   "outputs": [
    {
     "name": "stdout",
     "output_type": "stream",
     "text": [
      "<class '__main__.Sample'>\n"
     ]
    }
   ],
   "source": [
    "obj = Sample()\n",
    "print(type(obj))"
   ]
  },
  {
   "cell_type": "code",
   "execution_count": 6,
   "id": "da6c7099",
   "metadata": {},
   "outputs": [
    {
     "name": "stdout",
     "output_type": "stream",
     "text": [
      "rufai\n"
     ]
    }
   ],
   "source": [
    "name = 'rufai'\n",
    "\n",
    "print(name)"
   ]
  },
  {
   "cell_type": "code",
   "execution_count": 14,
   "id": "3f12eab4",
   "metadata": {},
   "outputs": [],
   "source": [
    "class Dog():\n",
    "    def __init__(self, breed, age):\n",
    "        self.breed = breed  # just like a variable\n",
    "        self.age = age # just like a varialble\n",
    "        "
   ]
  },
  {
   "cell_type": "code",
   "execution_count": 19,
   "id": "8c279594",
   "metadata": {},
   "outputs": [],
   "source": [
    "bingo = Dog(breed = 'bingo', age = 5)\n"
   ]
  },
  {
   "cell_type": "code",
   "execution_count": 21,
   "id": "0e5dd322",
   "metadata": {},
   "outputs": [
    {
     "data": {
      "text/plain": [
       "'bingo'"
      ]
     },
     "execution_count": 21,
     "metadata": {},
     "output_type": "execute_result"
    }
   ],
   "source": [
    "bingo.breed"
   ]
  },
  {
   "cell_type": "code",
   "execution_count": 23,
   "id": "7f12bbb9",
   "metadata": {},
   "outputs": [
    {
     "data": {
      "text/plain": [
       "5"
      ]
     },
     "execution_count": 23,
     "metadata": {},
     "output_type": "execute_result"
    }
   ],
   "source": [
    "bingo.age"
   ]
  },
  {
   "cell_type": "code",
   "execution_count": 24,
   "id": "837661e1",
   "metadata": {},
   "outputs": [],
   "source": [
    "sam = Dog('samlocool', 12)"
   ]
  },
  {
   "cell_type": "code",
   "execution_count": 26,
   "id": "e0dd2613",
   "metadata": {},
   "outputs": [
    {
     "data": {
      "text/plain": [
       "'samlocool'"
      ]
     },
     "execution_count": 26,
     "metadata": {},
     "output_type": "execute_result"
    }
   ],
   "source": [
    "sam.breed"
   ]
  },
  {
   "cell_type": "code",
   "execution_count": 27,
   "id": "62e28b08",
   "metadata": {},
   "outputs": [
    {
     "data": {
      "text/plain": [
       "12"
      ]
     },
     "execution_count": 27,
     "metadata": {},
     "output_type": "execute_result"
    }
   ],
   "source": [
    "sam.age"
   ]
  },
  {
   "cell_type": "code",
   "execution_count": 28,
   "id": "05c43e52",
   "metadata": {},
   "outputs": [],
   "source": [
    "# class with attribut\n",
    "class Dog():\n",
    "    \n",
    "    # class attribut\n",
    "    \n",
    "    species = 'mamma1'\n",
    "    \n",
    "    def __init__(self, breed, name):\n",
    "        self.breed = breed  # just like a variable\n",
    "        self.name = name # just like a varialble"
   ]
  },
  {
   "cell_type": "code",
   "execution_count": 29,
   "id": "ec78f888",
   "metadata": {},
   "outputs": [],
   "source": [
    "dogObje = Dog('Lab', 'sam')"
   ]
  },
  {
   "cell_type": "code",
   "execution_count": 30,
   "id": "194c5b35",
   "metadata": {},
   "outputs": [
    {
     "data": {
      "text/plain": [
       "'Lab'"
      ]
     },
     "execution_count": 30,
     "metadata": {},
     "output_type": "execute_result"
    }
   ],
   "source": [
    "dogObje.breed"
   ]
  },
  {
   "cell_type": "code",
   "execution_count": 31,
   "id": "792397b9",
   "metadata": {},
   "outputs": [
    {
     "data": {
      "text/plain": [
       "'sam'"
      ]
     },
     "execution_count": 31,
     "metadata": {},
     "output_type": "execute_result"
    }
   ],
   "source": [
    "dogObje.name"
   ]
  },
  {
   "cell_type": "code",
   "execution_count": 32,
   "id": "0d738468",
   "metadata": {},
   "outputs": [
    {
     "data": {
      "text/plain": [
       "'mamma1'"
      ]
     },
     "execution_count": 32,
     "metadata": {},
     "output_type": "execute_result"
    }
   ],
   "source": [
    "dogObje.species\n"
   ]
  },
  {
   "cell_type": "code",
   "execution_count": null,
   "id": "aca46a1c",
   "metadata": {},
   "outputs": [],
   "source": [
    "class Circle():\n",
    "    \n",
    "    \n",
    "    pi = 3.142\n",
    "    \n",
    "    def __init__(self, radius):\n",
    "        self.radius = radius\n",
    "        self.area = radius * radius * Circle.pi\n",
    "        \n",
    "    def set_radius(self, new_radius):\n",
    "        self.new_radius = radius\n",
    "        "
   ]
  }
 ],
 "metadata": {
  "kernelspec": {
   "display_name": "Python 3 (ipykernel)",
   "language": "python",
   "name": "python3"
  },
  "language_info": {
   "codemirror_mode": {
    "name": "ipython",
    "version": 3
   },
   "file_extension": ".py",
   "mimetype": "text/x-python",
   "name": "python",
   "nbconvert_exporter": "python",
   "pygments_lexer": "ipython3",
   "version": "3.10.6"
  }
 },
 "nbformat": 4,
 "nbformat_minor": 5
}
